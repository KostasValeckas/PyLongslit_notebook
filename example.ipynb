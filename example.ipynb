{
 "cells": [
  {
   "cell_type": "markdown",
   "id": "b84081b9",
   "metadata": {},
   "source": [
    "# Welcome to PyLongslit - the notebook version.\n",
    "\n",
    "### As for now, this is experimental, and might be unstable. \n",
    "\n",
    "### IMPORTANT!!! The scripts in the version differ from the scripts in the \n",
    "### scripting version of the software - make sure you have the correct \n",
    "### files downloaded."
   ]
  },
  {
   "cell_type": "markdown",
   "id": "6d24495a",
   "metadata": {},
   "source": [
    "The below cell ensures that you have all neccesery packages installed. \n",
    "If you are running this notebook on your own machine, we\n",
    "recommend that you create an empty virtual environment for this.\n",
    "\n",
    "You only have to run the below cell once, and it would be a good idea\n",
    "to comment it out for succesive runs of the notebook."
   ]
  },
  {
   "cell_type": "code",
   "execution_count": 1,
   "id": "586ea2fa",
   "metadata": {},
   "outputs": [
    {
     "name": "stdout",
     "output_type": "stream",
     "text": [
      "Requirement already satisfied: astropy==6.1.1 in /home/kostasvaleckas/anaconda3/envs/PyLongslit_jupyter/lib/python3.10/site-packages (from -r requirements.txt (line 1)) (6.1.1)\n",
      "Requirement already satisfied: astroscrappy==1.2.0 in /home/kostasvaleckas/anaconda3/envs/PyLongslit_jupyter/lib/python3.10/site-packages (from -r requirements.txt (line 2)) (1.2.0)\n",
      "Requirement already satisfied: matplotlib==3.9.0 in /home/kostasvaleckas/anaconda3/envs/PyLongslit_jupyter/lib/python3.10/site-packages (from -r requirements.txt (line 3)) (3.9.0)\n",
      "Requirement already satisfied: numpy==1.26.0 in /home/kostasvaleckas/anaconda3/envs/PyLongslit_jupyter/lib/python3.10/site-packages (from -r requirements.txt (line 4)) (1.26.0)\n",
      "Requirement already satisfied: pandas==2.2.2 in /home/kostasvaleckas/anaconda3/envs/PyLongslit_jupyter/lib/python3.10/site-packages (from -r requirements.txt (line 5)) (2.2.2)\n",
      "Requirement already satisfied: photutils==1.12.0 in /home/kostasvaleckas/anaconda3/envs/PyLongslit_jupyter/lib/python3.10/site-packages (from -r requirements.txt (line 6)) (1.12.0)\n",
      "Requirement already satisfied: PyQt5==5.15.10 in /home/kostasvaleckas/anaconda3/envs/PyLongslit_jupyter/lib/python3.10/site-packages (from -r requirements.txt (line 7)) (5.15.10)\n",
      "Requirement already satisfied: scipy==1.14.0 in /home/kostasvaleckas/anaconda3/envs/PyLongslit_jupyter/lib/python3.10/site-packages (from -r requirements.txt (line 8)) (1.14.0)\n",
      "Requirement already satisfied: scikit-image==0.24.0 in /home/kostasvaleckas/anaconda3/envs/PyLongslit_jupyter/lib/python3.10/site-packages (from -r requirements.txt (line 9)) (0.24.0)\n",
      "Requirement already satisfied: tabulate==0.9.0 in /home/kostasvaleckas/anaconda3/envs/PyLongslit_jupyter/lib/python3.10/site-packages (from -r requirements.txt (line 10)) (0.9.0)\n",
      "Requirement already satisfied: pyerfa>=2.0.1.1 in /home/kostasvaleckas/anaconda3/envs/PyLongslit_jupyter/lib/python3.10/site-packages (from astropy==6.1.1->-r requirements.txt (line 1)) (2.0.1.4)\n",
      "Requirement already satisfied: astropy-iers-data>=0.2024.5.27.0.30.8 in /home/kostasvaleckas/anaconda3/envs/PyLongslit_jupyter/lib/python3.10/site-packages (from astropy==6.1.1->-r requirements.txt (line 1)) (0.2024.7.8.0.31.19)\n",
      "Requirement already satisfied: PyYAML>=3.13 in /home/kostasvaleckas/anaconda3/envs/PyLongslit_jupyter/lib/python3.10/site-packages (from astropy==6.1.1->-r requirements.txt (line 1)) (6.0.1)\n",
      "Requirement already satisfied: packaging>=19.0 in /home/kostasvaleckas/anaconda3/envs/PyLongslit_jupyter/lib/python3.10/site-packages (from astropy==6.1.1->-r requirements.txt (line 1)) (24.1)\n",
      "Requirement already satisfied: contourpy>=1.0.1 in /home/kostasvaleckas/anaconda3/envs/PyLongslit_jupyter/lib/python3.10/site-packages (from matplotlib==3.9.0->-r requirements.txt (line 3)) (1.2.1)\n",
      "Requirement already satisfied: cycler>=0.10 in /home/kostasvaleckas/anaconda3/envs/PyLongslit_jupyter/lib/python3.10/site-packages (from matplotlib==3.9.0->-r requirements.txt (line 3)) (0.12.1)\n",
      "Requirement already satisfied: fonttools>=4.22.0 in /home/kostasvaleckas/anaconda3/envs/PyLongslit_jupyter/lib/python3.10/site-packages (from matplotlib==3.9.0->-r requirements.txt (line 3)) (4.53.1)\n",
      "Requirement already satisfied: kiwisolver>=1.3.1 in /home/kostasvaleckas/anaconda3/envs/PyLongslit_jupyter/lib/python3.10/site-packages (from matplotlib==3.9.0->-r requirements.txt (line 3)) (1.4.5)\n",
      "Requirement already satisfied: pillow>=8 in /home/kostasvaleckas/anaconda3/envs/PyLongslit_jupyter/lib/python3.10/site-packages (from matplotlib==3.9.0->-r requirements.txt (line 3)) (10.4.0)\n",
      "Requirement already satisfied: pyparsing>=2.3.1 in /home/kostasvaleckas/anaconda3/envs/PyLongslit_jupyter/lib/python3.10/site-packages (from matplotlib==3.9.0->-r requirements.txt (line 3)) (3.1.2)\n",
      "Requirement already satisfied: python-dateutil>=2.7 in /home/kostasvaleckas/anaconda3/envs/PyLongslit_jupyter/lib/python3.10/site-packages (from matplotlib==3.9.0->-r requirements.txt (line 3)) (2.9.0.post0)\n",
      "Requirement already satisfied: pytz>=2020.1 in /home/kostasvaleckas/anaconda3/envs/PyLongslit_jupyter/lib/python3.10/site-packages (from pandas==2.2.2->-r requirements.txt (line 5)) (2024.1)\n",
      "Requirement already satisfied: tzdata>=2022.7 in /home/kostasvaleckas/anaconda3/envs/PyLongslit_jupyter/lib/python3.10/site-packages (from pandas==2.2.2->-r requirements.txt (line 5)) (2024.1)\n",
      "Requirement already satisfied: PyQt5-sip<13,>=12.13 in /home/kostasvaleckas/anaconda3/envs/PyLongslit_jupyter/lib/python3.10/site-packages (from PyQt5==5.15.10->-r requirements.txt (line 7)) (12.15.0)\n",
      "Requirement already satisfied: PyQt5-Qt5>=5.15.2 in /home/kostasvaleckas/anaconda3/envs/PyLongslit_jupyter/lib/python3.10/site-packages (from PyQt5==5.15.10->-r requirements.txt (line 7)) (5.15.14)\n",
      "Requirement already satisfied: networkx>=2.8 in /home/kostasvaleckas/anaconda3/envs/PyLongslit_jupyter/lib/python3.10/site-packages (from scikit-image==0.24.0->-r requirements.txt (line 9)) (3.3)\n",
      "Requirement already satisfied: imageio>=2.33 in /home/kostasvaleckas/anaconda3/envs/PyLongslit_jupyter/lib/python3.10/site-packages (from scikit-image==0.24.0->-r requirements.txt (line 9)) (2.34.2)\n",
      "Requirement already satisfied: tifffile>=2022.8.12 in /home/kostasvaleckas/anaconda3/envs/PyLongslit_jupyter/lib/python3.10/site-packages (from scikit-image==0.24.0->-r requirements.txt (line 9)) (2024.7.2)\n",
      "Requirement already satisfied: lazy-loader>=0.4 in /home/kostasvaleckas/anaconda3/envs/PyLongslit_jupyter/lib/python3.10/site-packages (from scikit-image==0.24.0->-r requirements.txt (line 9)) (0.4)\n",
      "Requirement already satisfied: six>=1.5 in /home/kostasvaleckas/anaconda3/envs/PyLongslit_jupyter/lib/python3.10/site-packages (from python-dateutil>=2.7->matplotlib==3.9.0->-r requirements.txt (line 3)) (1.16.0)\n",
      "Note: you may need to restart the kernel to use updated packages.\n"
     ]
    }
   ],
   "source": [
    "pip install -r requirements.txt"
   ]
  },
  {
   "cell_type": "markdown",
   "id": "908a9714",
   "metadata": {},
   "source": [
    "Importing the PyLongslit code and relevant libraries:"
   ]
  },
  {
   "cell_type": "code",
   "execution_count": 2,
   "id": "e6ac5300-7bf8-4500-8a77-8ea8bc3363e5",
   "metadata": {},
   "outputs": [],
   "source": [
    "from mkspecbias import mkspecbias\n",
    "from mkspecflat import mkspecflat\n",
    "\n",
    "from crremoval import crremoval\n",
    "from reduceobs import reduce_obs\n",
    "\n",
    "from extract_1d import extract_1d_spec\n",
    "\n",
    "from standard import standard\n",
    "\n",
    "from sensfunction import sensfunc\n",
    "\n",
    "from calibrate import calibrate\n",
    "\n",
    "import os\n"
   ]
  },
  {
   "cell_type": "markdown",
   "id": "4eb2e90a",
   "metadata": {},
   "source": [
    "In the below cell, you need to set the path to the directory with \n",
    "your raw data, and also to the directory where ourput should be stored.\n",
    "\n",
    "If the output directory does not exist, it will be created automatically."
   ]
  },
  {
   "cell_type": "code",
   "execution_count": 3,
   "id": "04bd2fd6",
   "metadata": {},
   "outputs": [],
   "source": [
    "\n",
    "\n",
    "### Directory with all raw data: \n",
    "\n",
    "INPUT_DIR = \"/home/kostasvaleckas/Documents/DAWN/PyLongslit_notebook/PyLongslit_notebook/raw/\"\n",
    "\n",
    "### Directory where all output will be stored\n",
    "\n",
    "OUTPUT_DIR = '/home/kostasvaleckas/Documents/DAWN/PyLongslit_notebook/PyLongslit_notebook/output'\n",
    "\n",
    "# If output directory does not exist, create it\n",
    "\n",
    "if not os.path.exists(OUTPUT_DIR):\n",
    "    os.makedirs(OUTPUT_DIR)\n",
    "\n",
    "\n"
   ]
  },
  {
   "cell_type": "markdown",
   "id": "c31dbbc8",
   "metadata": {},
   "source": [
    "Set the x and y dimensions of your frames:"
   ]
  },
  {
   "cell_type": "code",
   "execution_count": 4,
   "id": "93676914",
   "metadata": {},
   "outputs": [],
   "source": [
    "xsize = 500\n",
    "ysize = 2102"
   ]
  },
  {
   "cell_type": "markdown",
   "id": "15dfd2f4",
   "metadata": {},
   "source": [
    "BIAS\n",
    "\n",
    "Fill in the files names of your bias files in the input directory."
   ]
  },
  {
   "cell_type": "code",
   "execution_count": 5,
   "id": "47bdaeb2-8db6-4bdf-a67a-ad662c76089c",
   "metadata": {},
   "outputs": [],
   "source": [
    "bias_list = [\n",
    "    \"ALDh140351.fits\",\n",
    "    \"ALDh140352.fits\",\n",
    "    \"ALDh140353.fits\",\n",
    "    \"ALDh140354.fits\",\n",
    "    \"ALDh140355.fits\",\n",
    "    \"ALDh140356.fits\",\n",
    "    \"ALDh140357.fits\",\n",
    "    \"ALDh140358.fits\",\n",
    "    \"ALDh140359.fits\",\n",
    "    \"ALDh140360.fits\",\n",
    "    \"ALDh140361.fits\"\n",
    "    ]"
   ]
  },
  {
   "cell_type": "markdown",
   "id": "a485e368",
   "metadata": {},
   "source": [
    "Execute:"
   ]
  },
  {
   "cell_type": "code",
   "execution_count": 6,
   "id": "9da8bce7",
   "metadata": {},
   "outputs": [
    {
     "name": "stdout",
     "output_type": "stream",
     "text": [
      "\n",
      " ---Using the following parameters for bias:---\n",
      "\n",
      "ysize = 2102\n",
      "xsize = 500\n",
      "----------------------------------------\n",
      "\n",
      "Image number: 0\n",
      "Subtracted the median value of the overscan : 11312.587432930377\n",
      "Image number: 1\n",
      "Subtracted the median value of the overscan : 11310.44430797078\n",
      "Image number: 2\n",
      "Subtracted the median value of the overscan : 11305.55084362273\n",
      "Image number: 3\n",
      "Subtracted the median value of the overscan : 11305.644450190704\n",
      "Image number: 4\n",
      "Subtracted the median value of the overscan : 11301.88415540759\n",
      "Image number: 5\n",
      "Subtracted the median value of the overscan : 11300.727131682721\n",
      "Image number: 6\n",
      "Subtracted the median value of the overscan : 11304.139634106923\n",
      "Image number: 7\n",
      "Subtracted the median value of the overscan : 11305.28288835736\n",
      "Image number: 8\n",
      "Subtracted the median value of the overscan : 11298.940461568298\n",
      "Image number: 9\n",
      "Subtracted the median value of the overscan : 11299.529639925011\n",
      "Image number: 10\n",
      "Subtracted the median value of the overscan : 11300.451483612385\n"
     ]
    }
   ],
   "source": [
    "mkspecbias(xsize, ysize, bias_list, inp_dir=INPUT_DIR, out_dir=OUTPUT_DIR)"
   ]
  },
  {
   "cell_type": "markdown",
   "id": "e3058616",
   "metadata": {},
   "source": [
    "FLATS\n",
    "\n",
    "Fill in the files names of your flat files in the input directory."
   ]
  },
  {
   "cell_type": "code",
   "execution_count": 7,
   "id": "5d661082",
   "metadata": {},
   "outputs": [],
   "source": [
    "flat_list = [\n",
    "    \"ALDh130384.fits\",\n",
    "    \"ALDh130385.fits\",\n",
    "    \"ALDh130386.fits\",\n",
    "    \"ALDh130387.fits\",\n",
    "    \"ALDh130388.fits\",\n",
    "    \"ALDh140211.fits\",\n",
    "    \"ALDh140219.fits\",\n",
    "    \"ALDh140230.fits\",\n",
    "    \"ALDh140238.fits\"\n",
    "    ]"
   ]
  },
  {
   "cell_type": "markdown",
   "id": "ddc18090",
   "metadata": {},
   "source": [
    "Execute:"
   ]
  },
  {
   "cell_type": "code",
   "execution_count": 8,
   "id": "06b556fe",
   "metadata": {},
   "outputs": [
    {
     "name": "stdout",
     "output_type": "stream",
     "text": [
      "\n",
      " ---Using the following parameters for flats:---\n",
      "\n",
      "ysize = 2102\n",
      "xsize = 500\n",
      "----------------------------------------\n",
      "\n",
      "Image number: 0\n",
      "Subtracted the median value of the overscan : 11366.882991790031\n",
      "Subtracted the BIAS\n",
      "Normalised with the median of the frame : 126860.20053009245\n",
      "Image number: 1\n",
      "Subtracted the median value of the overscan : 11359.516322968519\n",
      "Subtracted the BIAS\n",
      "Normalised with the median of the frame : 127778.15149654148\n",
      "Image number: 2\n",
      "Subtracted the median value of the overscan : 11357.927209257225\n",
      "Subtracted the BIAS\n",
      "Normalised with the median of the frame : 127903.43997672765\n",
      "Image number: 3\n",
      "Subtracted the median value of the overscan : 11355.195229168014\n",
      "Subtracted the BIAS\n",
      "Normalised with the median of the frame : 128495.4437584847\n",
      "Image number: 4\n",
      "Subtracted the median value of the overscan : 11353.14674510311\n",
      "Subtracted the BIAS\n",
      "Normalised with the median of the frame : 129147.98164070076\n",
      "Image number: 5\n",
      "Subtracted the median value of the overscan : 11296.992695067554\n",
      "Subtracted the BIAS\n",
      "Normalised with the median of the frame : 122290.52317538302\n",
      "Image number: 6\n",
      "Subtracted the median value of the overscan : 11293.236731527571\n",
      "Subtracted the BIAS\n",
      "Normalised with the median of the frame : 122244.90290257934\n",
      "Image number: 7\n",
      "Subtracted the median value of the overscan : 11286.428534488332\n",
      "Subtracted the BIAS\n",
      "Normalised with the median of the frame : 122432.1874070722\n",
      "Image number: 8\n",
      "Subtracted the median value of the overscan : 11304.793716465188\n",
      "Subtracted the BIAS\n",
      "Normalised with the median of the frame : 122040.2898054173\n"
     ]
    },
    {
     "name": "stderr",
     "output_type": "stream",
     "text": [
      "/home/kostasvaleckas/Documents/DAWN/PyLongslit_notebook/PyLongslit_notebook/mkspecflat.py:46: RuntimeWarning: invalid value encountered in divide\n",
      "  medianflat[:,i] = medianflat[:,i] / lampspec[:]\n"
     ]
    }
   ],
   "source": [
    "mkspecflat(xsize, ysize, flat_list, inp_dir=INPUT_DIR, out_dir=OUTPUT_DIR)"
   ]
  },
  {
   "cell_type": "markdown",
   "id": "6042360a",
   "metadata": {},
   "source": [
    "In the following, removal of cosmic rays from the science and standard star\n",
    "frames will be executed.\n",
    "\n",
    "Firstly, set gain and read-out-noise detector parameters (can be found in the \n",
    "fits file header):"
   ]
  },
  {
   "cell_type": "code",
   "execution_count": 9,
   "id": "de1a6c55-5756-4883-b723-50214720824f",
   "metadata": {},
   "outputs": [],
   "source": [
    "#Science\n",
    "\n",
    "# THESE HAVE TO BE FOR YOUR OBSERVATION\n",
    "gain = 0.16 # LOOK UP fitsfile[1].header['GAIN']\n",
    "ron = 4.3 # LOOK UP fitsfile[1].header['RDNOISE']"
   ]
  },
  {
   "cell_type": "markdown",
   "id": "a77d848e",
   "metadata": {},
   "source": [
    "Several paramters can also\n",
    "be set for guiding the astroscrappy.detect_cosmics https://astroscrappy.readthedocs.io/en/latest/api/astroscrappy.detect_cosmics.html\n",
    "method, but the default values should be sufficient in most cases:"
   ]
  },
  {
   "cell_type": "code",
   "execution_count": 10,
   "id": "3cd8c97e",
   "metadata": {},
   "outputs": [],
   "source": [
    "# THSE CAN BE SET DIFFERENTLY AS NEEDED\n",
    "frac = 0.01\n",
    "objlim = 15\n",
    "sigclip = 5\n",
    "niter = 5"
   ]
  },
  {
   "cell_type": "markdown",
   "id": "574adc77",
   "metadata": {},
   "source": [
    "Fill in the files names of your science observation\n",
    "and standard star files in the input directory."
   ]
  },
  {
   "cell_type": "code",
   "execution_count": 11,
   "id": "682aa5e8",
   "metadata": {},
   "outputs": [],
   "source": [
    "list_science = [\n",
    "    \"ALDh120177.fits\",\n",
    "    \"ALDh120178.fits\"\n",
    "]\n",
    "\n",
    "list_standard = [\n",
    "    \"ALDh120217.fits\"\n",
    "]"
   ]
  },
  {
   "cell_type": "markdown",
   "id": "05c4b311",
   "metadata": {},
   "source": [
    "Execute the following cell to remove cosmic rays from both science and \n",
    "standard star frames:"
   ]
  },
  {
   "cell_type": "code",
   "execution_count": 12,
   "id": "32594224",
   "metadata": {},
   "outputs": [
    {
     "name": "stdout",
     "output_type": "stream",
     "text": [
      "Script running\n",
      "\n",
      " ---Using the following parameters:---\n",
      "\n",
      "gain = 0.16\n",
      "ron = 4.3\n",
      "frac = 0.01\n",
      "objlim = 15\n",
      "sigclip = 5\n",
      "niter = 5\n",
      "----------------------------------------\n",
      "\n",
      "Removing cosmics from file: ALDh120177.fits...\n",
      "Starting 5 L.A.Cosmic iterations\n",
      "Iteration 1:\n",
      "252 cosmic pixels this iteration\n",
      "Iteration 2:\n",
      "0 cosmic pixels this iteration\n",
      "No bad-pixel extension present. No flag set for corrected pixels\n",
      "Removing cosmics from file: ALDh120178.fits...\n",
      "Starting 5 L.A.Cosmic iterations\n",
      "Iteration 1:\n",
      "226 cosmic pixels this iteration\n",
      "Iteration 2:\n",
      "3 cosmic pixels this iteration\n",
      "Iteration 3:\n",
      "0 cosmic pixels this iteration\n",
      "No bad-pixel extension present. No flag set for corrected pixels\n",
      "Script running\n",
      "\n",
      " ---Using the following parameters:---\n",
      "\n",
      "gain = 0.16\n",
      "ron = 4.3\n",
      "frac = 0.01\n",
      "objlim = 15\n",
      "sigclip = 5\n",
      "niter = 5\n",
      "----------------------------------------\n",
      "\n",
      "Removing cosmics from file: ALDh120217.fits...\n",
      "Starting 5 L.A.Cosmic iterations\n",
      "Iteration 1:\n",
      "354 cosmic pixels this iteration\n",
      "Iteration 2:\n",
      "355 cosmic pixels this iteration\n",
      "Iteration 3:\n",
      "531 cosmic pixels this iteration\n",
      "Iteration 4:\n",
      "596 cosmic pixels this iteration\n",
      "Iteration 5:\n",
      "554 cosmic pixels this iteration\n",
      "No bad-pixel extension present. No flag set for corrected pixels\n"
     ]
    }
   ],
   "source": [
    "crremoval(gain, \n",
    "          ron, \n",
    "          list_science,\n",
    "          inp_dir=INPUT_DIR,\n",
    "          out_dir=OUTPUT_DIR,\n",
    "          frac=frac,\n",
    "          objlim=objlim,\n",
    "          sigclip=sigclip,\n",
    "          niter=niter\n",
    "          )\n",
    "\n",
    "crremoval(gain, \n",
    "          ron, \n",
    "          list_standard,\n",
    "          inp_dir=INPUT_DIR,\n",
    "          out_dir=OUTPUT_DIR,\n",
    "          frac=frac,\n",
    "          objlim=objlim,\n",
    "          sigclip=sigclip,\n",
    "          niter=niter\n",
    "          )"
   ]
  },
  {
   "cell_type": "markdown",
   "id": "b9ec72ec",
   "metadata": {},
   "source": [
    "Next step is reduction (bias subtraction and flat-fielding) of the science,\n",
    "standard star and arc lamp observations."
   ]
  },
  {
   "cell_type": "markdown",
   "id": "39d78e4b",
   "metadata": {},
   "source": [
    "The following cell produces lists of the science and standart star frames, \n",
    "where the cosmic rays have been removed:"
   ]
  },
  {
   "cell_type": "code",
   "execution_count": 13,
   "id": "3c04503f-22e8-446d-b894-a3e232aebb45",
   "metadata": {},
   "outputs": [],
   "source": [
    "# This helps to make lists with correct naming after \n",
    "# the cosmic rays have been removed: \n",
    "\n",
    "list_science_crr_removed = [\"crr\" + filename.split(\"/\")[-1] for filename in list_science]\n",
    "list_standard_crr_removed = [\"crr\" + filename.split(\"/\")[-1] for filename in list_standard]"
   ]
  },
  {
   "cell_type": "markdown",
   "id": "651ae70a",
   "metadata": {},
   "source": [
    "List the names of the arc lamp frames that are in your input directory:"
   ]
  },
  {
   "cell_type": "code",
   "execution_count": 14,
   "id": "49abff84",
   "metadata": {},
   "outputs": [],
   "source": [
    "# Arc frames:\n",
    "\n",
    "list_arc = [\n",
    "    \"ALDh120176.fits\",\n",
    "    \"ALDh120179.fits\"\n",
    "]"
   ]
  },
  {
   "cell_type": "markdown",
   "id": "0896187e",
   "metadata": {},
   "source": [
    "In the following,the x-coordinates of the object centers must be given.\n",
    "The lists must be same length as the number of frames, and sorted to match\n",
    "the frames in alphabetical order.\n",
    "\n",
    "This has to be done both for the science and standard star observations:"
   ]
  },
  {
   "cell_type": "code",
   "execution_count": 15,
   "id": "a370e03c",
   "metadata": {},
   "outputs": [],
   "source": [
    "centers_science = [250, 273] \n",
    "\n",
    "centers_standard = [251] "
   ]
  },
  {
   "cell_type": "markdown",
   "id": "2454fbd6",
   "metadata": {},
   "source": [
    "The following cell runs the reductions:"
   ]
  },
  {
   "cell_type": "code",
   "execution_count": 16,
   "id": "f2d73724",
   "metadata": {},
   "outputs": [
    {
     "name": "stdout",
     "output_type": "stream",
     "text": [
      "Script running\n",
      "\n",
      " ---Using the following parameters:---\n",
      "\n",
      "ysize = 2102\n",
      "xsize = 500\n",
      "Is this a standard star reduction? = False\n",
      "\n",
      "Object centers: [250, 273]\n",
      "\n",
      "\n",
      " -------------------------------------\n",
      "\n",
      "Number of raw images: 2\n",
      "Info on file:\n",
      "Filename: /home/kostasvaleckas/Documents/DAWN/PyLongslit_notebook/PyLongslit_notebook/output/crrALDh120177.fits\n",
      "No.    Name      Ver    Type      Cards   Dimensions   Format\n",
      "  0  PRIMARY       1 PrimaryHDU     152   ()      \n",
      "  1  im1           1 ImageHDU        37   (500, 2102)   float32   \n"
     ]
    },
    {
     "name": "stdout",
     "output_type": "stream",
     "text": [
      "None\n",
      "Subtracted the median value of the overscan : 11368.939\n",
      "sub1.fits\n",
      "Info on file:\n",
      "Filename: /home/kostasvaleckas/Documents/DAWN/PyLongslit_notebook/PyLongslit_notebook/output/crrALDh120178.fits\n",
      "No.    Name      Ver    Type      Cards   Dimensions   Format\n",
      "  0  PRIMARY       1 PrimaryHDU     152   ()      \n",
      "  1  im1           1 ImageHDU        37   (500, 2102)   float32   \n",
      "None\n",
      "Subtracted the median value of the overscan : 11368.878\n",
      "sub2.fits\n"
     ]
    },
    {
     "name": "stderr",
     "output_type": "stream",
     "text": [
      "/home/kostasvaleckas/Documents/DAWN/PyLongslit_notebook/PyLongslit_notebook/reduceobs.py:61: RuntimeWarning: divide by zero encountered in divide\n",
      "  specdata = (specdata-BIAS)/FLAT\n"
     ]
    },
    {
     "name": "stdout",
     "output_type": "stream",
     "text": [
      "Subtracted the median value of the overscan : 22734.91683708248\n",
      "\n",
      "\n",
      "\u001b[91m\n",
      "\n",
      "ATTENTION:\u001b[0m THIS REDUCTION HAS BEEN RUN AS A SCIENCE OBJECT REDUCTION\n",
      "If this is a standard star reduction, please use \"reducestd.py\" script,and re-run both the standard star and science object reductions. \n",
      "\n",
      "\n",
      "Script running\n",
      "\n",
      " ---Using the following parameters:---\n",
      "\n",
      "ysize = 2102\n",
      "xsize = 500\n",
      "Is this a standard star reduction? = True\n",
      "\n",
      "Object centers: [251]\n",
      "\n",
      "\n",
      " -------------------------------------\n",
      "\n",
      "Number of raw images: 1\n",
      "Info on file:\n",
      "Filename: /home/kostasvaleckas/Documents/DAWN/PyLongslit_notebook/PyLongslit_notebook/output/crrALDh120217.fits\n",
      "No.    Name      Ver    Type      Cards   Dimensions   Format\n",
      "  0  PRIMARY       1 PrimaryHDU     152   ()      \n",
      "  1  im1           1 ImageHDU        37   (500, 2102)   float32   \n",
      "None\n",
      "Subtracted the median value of the overscan : 11363.087\n",
      "sub1.fits\n"
     ]
    },
    {
     "name": "stderr",
     "output_type": "stream",
     "text": [
      "/home/kostasvaleckas/Documents/DAWN/PyLongslit_notebook/PyLongslit_notebook/reduceobs.py:105: RuntimeWarning: divide by zero encountered in divide\n",
      "  specdata = (specdata-BIAS)/FLAT\n"
     ]
    },
    {
     "name": "stdout",
     "output_type": "stream",
     "text": [
      "Subtracted the median value of the overscan : 22734.91683708248\n",
      "\n",
      "\n",
      "\u001b[91m\n",
      "\n",
      "ATTENTION:\u001b[0m THIS REDUCTION HAS BEEN RUN AS A STANDARD STAR REDUCTION\n",
      "If this is an object reduction, please use \"reducescience.py\" script, and re-run both the standard star and science object reductions. \n",
      "\n",
      "\n"
     ]
    }
   ],
   "source": [
    "reduce_obs(xsize, \n",
    "           ysize, \n",
    "           centers_science, \n",
    "           list_science_crr_removed, \n",
    "           list_arc, \n",
    "           inp_dir=INPUT_DIR,\n",
    "           out_dir=OUTPUT_DIR,   \n",
    "           standard_star_reduction = False)\n",
    "\n",
    "\n",
    "\n",
    "reduce_obs(xsize, \n",
    "           ysize, \n",
    "           centers_standard, \n",
    "           list_standard_crr_removed, \n",
    "           list_arc, \n",
    "           inp_dir=INPUT_DIR,\n",
    "           out_dir=OUTPUT_DIR,   \n",
    "           standard_star_reduction = True)"
   ]
  },
  {
   "cell_type": "markdown",
   "id": "7841de68",
   "metadata": {},
   "source": [
    "Manual id'ing of the arc lines. The variable 'linelist' \n",
    "has to be set to the path of the linelist. \n",
    "\n",
    "Executing the following script will open a GUI in a new window."
   ]
  },
  {
   "cell_type": "code",
   "execution_count": 17,
   "id": "1f4d7b58",
   "metadata": {},
   "outputs": [
    {
     "name": "stdout",
     "output_type": "stream",
     "text": [
      "Found a preexisting pixel table.\n"
     ]
    },
    {
     "name": "stderr",
     "output_type": "stream",
     "text": [
      "libGL error: MESA-LOADER: failed to open iris: /usr/lib/dri/iris_dri.so: cannot open shared object file: No such file or directory (search paths /usr/lib/x86_64-linux-gnu/dri:\\$${ORIGIN}/dri:/usr/lib/dri, suffix _dri)\n",
      "libGL error: failed to load driver: iris\n",
      "libGL error: MESA-LOADER: failed to open iris: /usr/lib/dri/iris_dri.so: cannot open shared object file: No such file or directory (search paths /usr/lib/x86_64-linux-gnu/dri:\\$${ORIGIN}/dri:/usr/lib/dri, suffix _dri)\n",
      "libGL error: failed to load driver: iris\n",
      "libGL error: MESA-LOADER: failed to open swrast: /usr/lib/dri/swrast_dri.so: cannot open shared object file: No such file or directory (search paths /usr/lib/x86_64-linux-gnu/dri:\\$${ORIGIN}/dri:/usr/lib/dri, suffix _dri)\n",
      "libGL error: failed to load driver: swrast\n"
     ]
    },
    {
     "data": {
      "text/plain": [
       "0"
      ]
     },
     "execution_count": 17,
     "metadata": {},
     "output_type": "execute_result"
    }
   ],
   "source": [
    "# Path to linelist\n",
    "linelist = \"/home/kostasvaleckas/Documents/DAWN/PyLongslit_notebook/PyLongslit_notebook/database/mylines_vac.dat\"\n",
    "\n",
    "\n",
    "os.system(\"python3 identify.py --lines \" + linelist + \" \" + OUTPUT_DIR + \"/arcsub.fits\")"
   ]
  },
  {
   "cell_type": "markdown",
   "id": "7343f796",
   "metadata": {},
   "source": [
    "Next step is 1d-spectrum extraction for both the science and the standard\n",
    "star frames. In the following cell, several parameters can be set \n",
    "to guide the extraction (we recommend you use the defaults and only\n",
    "change them if the results are not optimal.)\n",
    "\n"
   ]
  },
  {
   "cell_type": "code",
   "execution_count": 21,
   "id": "4693d0f4",
   "metadata": {},
   "outputs": [],
   "source": [
    "# Parameters for IDENTIFY\n",
    "FITTING_MODEL_ID = 'Chebyshev'\n",
    "ORDER_ID = 6 \n",
    "FWHM_ID = 2.5 # rough guess of FWHM of lines in IDENTIFY (pixels)\n",
    "\n",
    "# Parameters for REIDENTIFY\n",
    "FITTING_MODEL_REID = 'Chebyshev'\n",
    "STEP_REID = 5  # Reidentification step size in pixels (spatial direction)\n",
    "TOL_REID = 25 # tolerence to lose a line in pixels\n",
    "ORDER_SPATIAL_REID = 5\n",
    "ORDER_WAVELEN_REID = 6\n",
    "\n",
    "# Parameters for APALL (sky fitting and aperture extract after sky subtraction)\n",
    "\n",
    "## parameters for finding aperture\n",
    "NSUM_AP = 10\n",
    "FWHM_AP = 10\n",
    "STEP_AP = 10  # Recentering step size in pixels (dispersion direction)\n",
    "\n",
    "## parameters for aperture tracing\n",
    "FITTING_MODEL_APTRACE = 'Chebyshev'\n",
    "ORDER_APTRACE = 3\n",
    "SIGMA_APTRACE = 3\n",
    "ITERS_APTRACE = 5 \n",
    "\n",
    "## parameters for sky fitting\n",
    "FITTING_MODEL_APSKY = 'Chebyshev'\n",
    "ORDER_APSKY = 2\n",
    "SIGMA_APSKY = 3\n",
    "ITERS_APSKY = 5\n",
    "\n",
    "DISPAXIS = 1  # 1 = line = python_axis_1 // 2 = column = python_axis_0"
   ]
  },
  {
   "cell_type": "markdown",
   "id": "027f7851",
   "metadata": {},
   "source": [
    "The next cell re-wires some back-ends to make interactive windows appear\n",
    "outside the notebook. Simply execute it:"
   ]
  },
  {
   "cell_type": "code",
   "execution_count": 22,
   "id": "8013f9ab",
   "metadata": {},
   "outputs": [],
   "source": [
    "%matplotlib qt"
   ]
  },
  {
   "cell_type": "markdown",
   "id": "fbd6e6f5",
   "metadata": {},
   "source": [
    "Execute extraction of the science spectrum:"
   ]
  },
  {
   "cell_type": "code",
   "execution_count": 24,
   "id": "fb7fc00b",
   "metadata": {},
   "outputs": [
    {
     "name": "stdout",
     "output_type": "stream",
     "text": [
      "Got Gain:  0.16  and Read-out noise:  4.3\n",
      "Reidentify each section by Chebyshev (order 6)\n",
      "section      |  found  |  RMS\n"
     ]
    },
    {
     "name": "stderr",
     "output_type": "stream",
     "text": [
      "/home/kostasvaleckas/anaconda3/envs/PyLongslit_jupyter/lib/python3.10/site-packages/astropy/modeling/functional_models.py:218: RuntimeWarning: divide by zero encountered in divide\n",
      "  return amplitude * np.exp(-0.5 * (x - mean) ** 2 / stddev**2)\n"
     ]
    },
    {
     "name": "stdout",
     "output_type": "stream",
     "text": [
      "[0000:0005]\t33/35\t19.951\n",
      "[0005:0010]\t33/35\t21.367\n",
      "[0010:0015]\t33/35\t21.394\n",
      "[0015:0020]\t33/35\t21.297\n",
      "[0020:0025]\t33/35\t21.405\n",
      "[0025:0030]\t33/35\t20.839\n",
      "[0030:0035]\t33/35\t21.544\n",
      "[0035:0040]\t33/35\t21.271\n",
      "[0040:0045]\t33/35\t21.383\n",
      "[0045:0050]\t33/35\t21.204\n",
      "[0050:0055]\t33/35\t21.607\n",
      "[0055:0060]\t32/35\t18.177\n",
      "[0060:0065]\t31/35\t9.998\n",
      "[0065:0070]\t31/35\t9.937\n",
      "[0070:0075]\t30/35\t1.165\n",
      "[0075:0080]\t33/35\t21.496\n",
      "[0080:0085]\t31/35\t9.971\n",
      "[0085:0090]\t31/35\t10.019\n",
      "[0090:0095]\t32/35\t18.783\n",
      "[0095:0100]\t31/35\t10.093\n",
      "[0100:0105]\t32/35\t19.750\n",
      "[0105:0110]\t32/35\t18.568\n",
      "[0110:0115]\t33/35\t21.673\n",
      "[0115:0120]\t33/35\t21.515\n",
      "[0120:0125]\t31/35\t10.092\n",
      "[0125:0130]\t31/35\t10.058\n",
      "[0130:0135]\t30/35\t1.494\n",
      "[0135:0140]\t31/35\t10.109\n",
      "[0140:0145]\t33/35\t20.533\n",
      "[0145:0150]\t31/35\t10.241\n",
      "[0150:0155]\t30/35\t1.412\n",
      "[0155:0160]\t32/35\t19.697\n",
      "[0160:0165]\t30/35\t1.385\n",
      "[0165:0170]\t31/35\t10.143\n",
      "[0170:0175]\t30/35\t1.459\n",
      "[0175:0180]\t30/35\t1.605\n",
      "[0180:0185]\t31/35\t10.211\n",
      "[0185:0190]\t30/35\t1.592\n",
      "[0190:0195]\t30/35\t1.570\n"
     ]
    },
    {
     "name": "stderr",
     "output_type": "stream",
     "text": [
      "WARNING: Model is linear in parameters; consider using linear fitting methods. [astropy.modeling.fitting]\n"
     ]
    },
    {
     "name": "stdout",
     "output_type": "stream",
     "text": [
      "First click on sky-region left of the trace (start, end), then the trace and finally sky region right of the trace (star, end). End with q\n"
     ]
    },
    {
     "name": "stderr",
     "output_type": "stream",
     "text": [
      "/home/kostasvaleckas/anaconda3/envs/PyLongslit_jupyter/lib/python3.10/site-packages/astropy/modeling/functional_models.py:218: RuntimeWarning: divide by zero encountered in divide\n",
      "  return amplitude * np.exp(-0.5 * (x - mean) ** 2 / stddev**2)\n"
     ]
    },
    {
     "name": "stdout",
     "output_type": "stream",
     "text": [
      "1700 1700\n",
      " \n",
      "** Wrote output file '/home/kostasvaleckas/Documents/DAWN/PyLongslit_notebook/PyLongslit_notebook/output/obj.ms_1d.fits' .\n",
      " \n",
      " \n",
      "** Wrote output file '/home/kostasvaleckas/Documents/DAWN/PyLongslit_notebook/PyLongslit_notebook/output/obj.ms_1d.dat' .\n",
      " \n"
     ]
    },
    {
     "name": "stderr",
     "output_type": "stream",
     "text": [
      "QSocketNotifier: Invalid socket 108 and type 'Read', disabling...\n"
     ]
    }
   ],
   "source": [
    "extract_1d_spec(\n",
    "        standard_star = False,\n",
    "        out_dir = OUTPUT_DIR,\n",
    "        FITTING_MODEL_ID = FITTING_MODEL_ID,\n",
    "        FWHM_ID = FWHM_ID,\n",
    "        ORDER_ID = ORDER_ID,\n",
    "        FITTING_MODEL_REID = FITTING_MODEL_REID,\n",
    "        TOL_REID = TOL_REID,\n",
    "        STEP_REID = STEP_REID,\n",
    "        ORDER_WAVELEN_REID = ORDER_WAVELEN_REID,\n",
    "        ORDER_SPATIAL_REID = ORDER_SPATIAL_REID,\n",
    "        NSUM_AP = NSUM_AP,\n",
    "        STEP_AP = STEP_AP,\n",
    "        FWHM_AP = FWHM_AP,\n",
    "        FITTING_MODEL_APTRACE = FITTING_MODEL_APTRACE,\n",
    "        ORDER_APTRACE = ORDER_APTRACE,\n",
    "        SIGMA_APTRACE = SIGMA_APTRACE,\n",
    "        ITERS_APTRACE = ITERS_APTRACE, \n",
    "        FITTING_MODEL_APSKY = FITTING_MODEL_APSKY,\n",
    "        SIGMA_APSKY = SIGMA_APSKY,\n",
    "        ITERS_APSKY = ITERS_APSKY,\n",
    "        ORDER_APSKY = ORDER_APSKY,\n",
    "        DISPAXIS = DISPAXIS)"
   ]
  },
  {
   "cell_type": "markdown",
   "id": "e2ae9cff",
   "metadata": {},
   "source": [
    "Execute extraction of the standard star spectrum:"
   ]
  },
  {
   "cell_type": "code",
   "execution_count": 25,
   "id": "a13d2de9",
   "metadata": {},
   "outputs": [
    {
     "name": "stdout",
     "output_type": "stream",
     "text": [
      "Got Gain:  0.16  and Read-out noise:  4.3\n",
      "Reidentify each section by Chebyshev (order 6)\n",
      "section      |  found  |  RMS\n"
     ]
    },
    {
     "name": "stderr",
     "output_type": "stream",
     "text": [
      "/home/kostasvaleckas/anaconda3/envs/PyLongslit_jupyter/lib/python3.10/site-packages/astropy/modeling/functional_models.py:218: RuntimeWarning: divide by zero encountered in divide\n",
      "  return amplitude * np.exp(-0.5 * (x - mean) ** 2 / stddev**2)\n"
     ]
    },
    {
     "name": "stdout",
     "output_type": "stream",
     "text": [
      "[0000:0005]\t33/35\t19.926\n",
      "[0005:0010]\t33/35\t21.418\n",
      "[0010:0015]\t33/35\t21.358\n",
      "[0015:0020]\t33/35\t21.369\n",
      "[0020:0025]\t32/35\t19.323\n",
      "[0025:0030]\t33/35\t20.858\n",
      "[0030:0035]\t33/35\t21.554\n",
      "[0035:0040]\t33/35\t21.394\n",
      "[0040:0045]\t33/35\t21.193\n",
      "[0045:0050]\t32/35\t19.375\n",
      "[0050:0055]\t33/35\t21.511\n",
      "[0055:0060]\t33/35\t20.115\n",
      "[0060:0065]\t33/35\t20.418\n",
      "[0065:0070]\t31/35\t9.899\n",
      "[0070:0075]\t30/35\t1.183\n",
      "[0075:0080]\t32/35\t19.622\n",
      "[0080:0085]\t31/35\t9.981\n",
      "[0085:0090]\t32/35\t18.728\n",
      "[0090:0095]\t33/35\t20.658\n",
      "[0095:0100]\t30/35\t1.387\n",
      "[0100:0105]\t32/35\t19.747\n",
      "[0105:0110]\t32/35\t19.736\n",
      "[0110:0115]\t33/35\t21.707\n",
      "[0115:0120]\t33/35\t21.494\n",
      "[0120:0125]\t31/35\t10.128\n",
      "[0125:0130]\t30/35\t1.374\n",
      "[0130:0135]\t31/35\t10.026\n",
      "[0135:0140]\t33/35\t21.555\n",
      "[0140:0145]\t33/35\t21.443\n",
      "[0145:0150]\t30/35\t1.592\n",
      "[0150:0155]\t32/35\t19.750\n",
      "[0155:0160]\t30/35\t1.525\n",
      "[0160:0165]\t30/35\t1.457\n",
      "[0165:0170]\t30/35\t1.530\n",
      "[0170:0175]\t31/35\t10.127\n",
      "[0175:0180]\t30/35\t1.679\n",
      "[0180:0185]\t31/35\t10.149\n",
      "[0185:0190]\t30/35\t1.641\n",
      "[0190:0195]\t31/35\t10.146\n"
     ]
    },
    {
     "name": "stderr",
     "output_type": "stream",
     "text": [
      "WARNING: Model is linear in parameters; consider using linear fitting methods. [astropy.modeling.fitting]\n"
     ]
    },
    {
     "name": "stdout",
     "output_type": "stream",
     "text": [
      "First click on sky-region left of the trace (start, end), then the trace and finally sky region right of the trace (star, end). End with q\n",
      "1700 1700\n",
      " \n",
      "** Wrote output file '/home/kostasvaleckas/Documents/DAWN/PyLongslit_notebook/PyLongslit_notebook/output/std.ms_1d.fits' .\n",
      " \n",
      " \n",
      "** Wrote output file '/home/kostasvaleckas/Documents/DAWN/PyLongslit_notebook/PyLongslit_notebook/output/std.ms_1d.dat' .\n",
      " \n"
     ]
    },
    {
     "name": "stderr",
     "output_type": "stream",
     "text": [
      "QSocketNotifier: Invalid socket 108 and type 'Read', disabling...\n"
     ]
    }
   ],
   "source": [
    "extract_1d_spec(\n",
    "        standard_star = True,\n",
    "        out_dir = OUTPUT_DIR,\n",
    "        FITTING_MODEL_ID = FITTING_MODEL_ID,\n",
    "        FWHM_ID = FWHM_ID,\n",
    "        ORDER_ID = ORDER_ID,\n",
    "        FITTING_MODEL_REID = FITTING_MODEL_REID,\n",
    "        TOL_REID = TOL_REID,\n",
    "        STEP_REID = STEP_REID,\n",
    "        ORDER_WAVELEN_REID = ORDER_WAVELEN_REID,\n",
    "        ORDER_SPATIAL_REID = ORDER_SPATIAL_REID,\n",
    "        NSUM_AP = NSUM_AP,\n",
    "        STEP_AP = STEP_AP,\n",
    "        FWHM_AP = FWHM_AP,\n",
    "        FITTING_MODEL_APTRACE = FITTING_MODEL_APTRACE,\n",
    "        ORDER_APTRACE = ORDER_APTRACE,\n",
    "        SIGMA_APTRACE = SIGMA_APTRACE,\n",
    "        ITERS_APTRACE = ITERS_APTRACE, \n",
    "        FITTING_MODEL_APSKY = FITTING_MODEL_APSKY,\n",
    "        SIGMA_APSKY = SIGMA_APSKY,\n",
    "        ITERS_APSKY = ITERS_APSKY,\n",
    "        ORDER_APSKY = ORDER_APSKY,\n",
    "        DISPAXIS = DISPAXIS)"
   ]
  },
  {
   "cell_type": "markdown",
   "id": "41263aef",
   "metadata": {},
   "source": [
    "Preparing standard star for sensfunc. fitting:\n",
    "\n",
    "TODO: add docs from scripting version:"
   ]
  },
  {
   "cell_type": "code",
   "execution_count": 27,
   "id": "0c23f740",
   "metadata": {},
   "outputs": [
    {
     "name": "stdout",
     "output_type": "stream",
     "text": [
      "ASSUMING THAT THE REFERENCE FILE IS IN AB MAGNITUDE\n",
      "Output files stdinfo and stddata have been written to the output directory.\n"
     ]
    },
    {
     "name": "stderr",
     "output_type": "stream",
     "text": [
      "QSocketNotifier: Invalid socket 92 and type 'Read', disabling...\n"
     ]
    }
   ],
   "source": [
    "# this command ensures that a new interactive plot window is opened\n",
    "%matplotlib qt\n",
    "\n",
    "standard(\n",
    "    out_dir = OUTPUT_DIR, \n",
    "    star_file_path = \"/home/kostasvaleckas/Documents/DAWN/PyLongslit_notebook/PyLongslit_notebook/mfeige110.dat\")\n"
   ]
  },
  {
   "cell_type": "markdown",
   "id": "ee41abc2",
   "metadata": {},
   "source": [
    "Producing the sensfunc, extinction file path needs to be given:"
   ]
  },
  {
   "cell_type": "code",
   "execution_count": 28,
   "id": "c53525fd",
   "metadata": {},
   "outputs": [],
   "source": [
    "extinction_file_path = \"/home/kostasvaleckas/Documents/DAWN/PyLongslit_notebook/PyLongslit_notebook/database/lapalma.dat\"\n",
    "\n",
    "sensfunc(out_dir = OUTPUT_DIR,\n",
    "         extinction_file_path = extinction_file_path, \n",
    "         FITTING_MODEL_SF = 'Chebyshev', \n",
    "         ORDER_SF = 9)"
   ]
  },
  {
   "cell_type": "markdown",
   "id": "a2acc1e7",
   "metadata": {},
   "source": [
    "Finally, calibrate to obtain the reudced and calibrate science spectrum:"
   ]
  },
  {
   "cell_type": "code",
   "execution_count": 29,
   "id": "0b9455d1",
   "metadata": {},
   "outputs": [
    {
     "name": "stdout",
     "output_type": "stream",
     "text": [
      "1.21611074940255 450.0\n",
      " \n",
      "** Wrote output file 'flux_obj.ms_1d.fits' .\n",
      " \n"
     ]
    }
   ],
   "source": [
    "calibrate(out_dir = OUTPUT_DIR, extinction_file_path=extinction_file_path)"
   ]
  }
 ],
 "metadata": {
  "kernelspec": {
   "display_name": "Python 3 (ipykernel)",
   "language": "python",
   "name": "python3"
  },
  "language_info": {
   "codemirror_mode": {
    "name": "ipython",
    "version": 3
   },
   "file_extension": ".py",
   "mimetype": "text/x-python",
   "name": "python",
   "nbconvert_exporter": "python",
   "pygments_lexer": "ipython3",
   "version": "3.10.0"
  }
 },
 "nbformat": 4,
 "nbformat_minor": 5
}
